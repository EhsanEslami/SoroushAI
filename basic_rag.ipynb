{
 "cells": [
  {
   "cell_type": "code",
   "execution_count": 1,
   "metadata": {},
   "outputs": [],
   "source": [
    "import os\n",
    "import time\n",
    "from tqdm import tqdm\n",
    "from dotenv import load_dotenv\n",
    "from langchain_openai import ChatOpenAI\n",
    "from langchain.document_loaders import DirectoryLoader\n",
    "from langchain_community.document_loaders import TextLoader\n",
    "from langchain_community.embeddings import OpenAIEmbeddings\n",
    "from langchain.text_splitter import RecursiveCharacterTextSplitter\n",
    "from langchain.text_splitter import (\n",
    "    CharacterTextSplitter,\n",
    ")\n",
    "from langchain.prompts.chat import (\n",
    "    HumanMessagePromptTemplate,\n",
    "    SystemMessagePromptTemplate,\n",
    ")\n",
    "from langchain.prompts import ChatPromptTemplate\n",
    "from langchain.schema import StrOutputParser\n",
    "from langchain.schema.runnable import RunnablePassthrough\n",
    "from langchain_community.vectorstores import Chroma\n",
    "from colorama import Fore\n",
    "import warnings\n",
    "\n",
    "warnings.filterwarnings(\"ignore\")\n",
    "\n",
    "load_dotenv()\n",
    "\n",
    "OPENAI_API_KEY = os.getenv(\"OPENAI_API_KEY\")\n",
    "LANGUAGE_MODEL = \"gpt-3.5-turbo-instruct\"\n"
   ]
  },
  {
   "cell_type": "code",
   "execution_count": null,
   "metadata": {},
   "outputs": [],
   "source": [
    "\n",
    "\n",
    "template: str = \"\"\"/\n",
    "    تو یک مفسر مثنوی مولانا هستی. سعی کن جواب سوال : /\n",
    "      {question} /\n",
    "      :رو بر اساس منبع روبرو /\n",
    "      {context}\n",
    "    بدهی. /\n",
    "    \"\"\"\n",
    "\n",
    "system_message_prompt = SystemMessagePromptTemplate.from_template(template)\n",
    "human_message_prompt = HumanMessagePromptTemplate.from_template(\n",
    "    input_variables=[\"question\", \"context\"],\n",
    "    template=\"{question}\",\n",
    ")\n",
    "chat_prompt_template = ChatPromptTemplate.from_messages(\n",
    "    [system_message_prompt, human_message_prompt]\n",
    ")\n",
    "\n",
    "model = ChatOpenAI()\n"
   ]
  },
  {
   "cell_type": "code",
   "execution_count": null,
   "metadata": {},
   "outputs": [],
   "source": [
    "def format_docs(docs):\n",
    "    return \"\\n\\n\".join([d.page_content for d in docs])\n",
    "\n",
    "\n",
    "\n",
    "def load_documents():\n",
    "    \"\"\"Load all text files from a directory, split them into chunks, and return the split documents.\"\"\"\n",
    "    loader = DirectoryLoader(\"./output_text/\", glob=\"*.txt\")  # Load all .txt files\n",
    "    raw_documents = loader.load()\n",
    "\n",
    "    text_splitter = RecursiveCharacterTextSplitter(\n",
    "        chunk_size=1000,\n",
    "        chunk_overlap=100,\n",
    "        separators=[\"\\n\\n\", \"\\n\", \" \", \"\"]\n",
    "    )\n",
    "    return text_splitter.split_documents(raw_documents)\n",
    "\n",
    "\n",
    "\n",
    "def load_embeddings(documents, user_query):\n",
    "    \"\"\"Create or load a vector store from a set of documents.\"\"\"\n",
    "    persist_directory = './chroma_cache'  # Directory to store embeddings\n",
    "    embedding_model = OpenAIEmbeddings()\n",
    "\n",
    "    # Check if the persist directory exists\n",
    "    if not os.path.exists(persist_directory):\n",
    "        os.makedirs(persist_directory)\n",
    "        # Initialize Chroma and add documents\n",
    "        db = Chroma.from_documents(documents, embedding_model, persist_directory=persist_directory)\n",
    "        db.persist()\n",
    "    else:\n",
    "        # Load existing Chroma instance\n",
    "        db = Chroma(persist_directory=persist_directory, embedding_function=embedding_model)\n",
    "\n",
    "    docs = db.similarity_search(user_query, k=5)\n",
    "    print(\"\\nRetrieved Documents:\\n\")\n",
    "    print(format_docs(docs))  # Print the retrieved documents\n",
    "    return db.as_retriever()\n",
    "\n",
    "\n",
    "def generate_response(retriever, query):\n",
    "    pass\n",
    "    # Create a prompt template using a template from the config module and input variables\n",
    "    # representing the context and question.\n",
    "    # create the prompt\n",
    "\n",
    "    chain = (\n",
    "        {\"context\": retriever, \"question\": RunnablePassthrough()}\n",
    "        | chat_prompt_template\n",
    "        | model\n",
    "        | StrOutputParser()\n",
    "    )\n",
    "    return chain.invoke(query)\n",
    "\n",
    "def query(query):\n",
    "    documents = load_documents()\n",
    "    retriever = load_embeddings(documents, query)\n",
    "    response = generate_response(retriever, query)\n",
    "    return response"
   ]
  },
  {
   "cell_type": "code",
   "execution_count": null,
   "metadata": {},
   "outputs": [],
   "source": [
    "documents = load_documents()"
   ]
  },
  {
   "cell_type": "code",
   "execution_count": 18,
   "metadata": {},
   "outputs": [
    {
     "name": "stdout",
     "output_type": "stream",
     "text": [
      "\n",
      "Retrieved Documents:\n",
      "\n",
      "دگر باره بشوریدن، بدانسانه، بجان تو، که هر بندی که بر بندی، بدرانن.به جان تو چوچرخم من، چوماهم من چوماهم من، چوشمم منچوشم من زتاب تو، زتاب توهم عقلم، هم عشقم، هم جانمبه جان توآیایی آیایی آیایی آیایی آیایی آیایی آیایی آیایی آیایی آیایی آیایی آیایی آیایی آیایی آیایی آیایی آیایی آیایی آیایی آیایی آیایی آیایی آیایی آیایی آیایی آیایی آیایی آیایی آیایی آیایی آیایی آیایی آیایی آیایی آیایی آیایی آیایی آیایی آیایی آیایی آیایی آیایی آیایی آیایی آیایی آیایی آیایی آیایی آیایی آیایی آیایی آیایی آیایی آیایی آیایی آیایی آیایی آیایی آیایی آیایی آیایی آیایی آیایی آیایی آیایی آیایی آیایی آیایی آیایی آیای آیای آیای آیای آیای آیای آیای آیای آیای آیای آیای آیای آیای آیای آیای آیای آیای آیای آیای آیای آیای آیای آیای آیای آیای آیای آیای آیای آیای آیای آیای آیای آیای آیای آیای آیای آیای آیای آیای آیای آیای آیای آیای آیای آیای آیای آیای آی آیای آیای آی آی آی آی آی آی آی آی آینخواهم عمر فانی را...تویی عمر عزیز مننخواهم جان پر قیم را بادتویی جانم به جان تواگر بیتو بر افلام کرد تو ابرتی میری غمناکهوگر بی تو\n",
      "\n",
      "فسادآن زپایان دید احمد بود کودید دوزخ را همینجا موبه بود، دید عرش و کرسی و جنات را تا درید او پردهٔ غفلات را،گر همیخواهی سلامت از ضرر،چشم زول بند و پایان را نگرد تا ادمها را ببینی جمله هست،هستها را بنگرید،محسوس هست.این ابیات رو و ابیات بعد از این رو به نوبت آتی میسپاریم. همینجا توقف میکنیم دنباله داستان رو بعداً از مولانا رحمتالله علیه خواهیم شنیم. متشکرم و السلام علیکم و رحمتالله و برکاته.سلمای دکتر، خیلی ممنوع از صحبتاتون، من سوالی که داشتم، همین ابیات آخری که راجع به شهر زدین، یه کمی احساس می کنم که، در مورد عشق نمی تونه خیلی چیز باشه، چون اون اصلا همینا خودشون، تبلیغ می کنن برای عشق به قول خود شما، که همه عشق می رد بر وسع می کنن، یا مثلا حافظ میگه «عاشق شو برای نهروزه یک کاری جهان برایت»، احساس می کنم، یه فکر نمی کن، نمیدونم، حداقل برداشت من اینه،ولی حتی اگه اونم باشه یا حتی اون چیزای عقلی که شما بکنم مطرح کردین، هنوز احساس بکنم خیلی نمیبینم اپلیکیشنش رو توی زندگی من نوعی چی هستش، مثلا خب میتونم فکر کنم که، خب من یه کار احمقانه نرم بکنم خودم رو به خود شما مثل پرواز پرت کنم کنیم،\n",
      "\n",
      "بر بالین ما بگه «ای عاشق غمدیده من خوابت هست» به قول حافظ، بازا بد نیس اینجا هم از حافظ بخوانیم که گفته «زلف آشفته و خی کرده و خندان لب و مست، پیروهنچاک و قزلخان و سراغی در دست، در گسش ادبت خان و لبش افسوس کنان، نیمه شب دوش به بالین من آمد بنشست،سر فراگوش من آورد و به آوای هزین گفت «ای عاشق غمدیدهی من خوابت هست؟» عاشقی را که چنین بادهی شب گیردهند، کافر عشق بابدگر نبابد باده پرست.درست همین مفهوم مولانا است که یک بار بر بالین بیاد و بگی «ای عاشق غمدیدهی من خوابت هست؟» «حالت خوب است؟» لبخندی بزنه، ملاطفتی بکنه، دستت رو بگیره، نبست رو بگیره، این بال در میاری.میگه ای کاش من هزار بار مریض میشدم و او هزار بار میمد به دیدن من، خوب؟ور نگوید کتنه آن فهم و فن است، اگر عاشقها را نیازد چون تو فهم و فن لازم را نداری، و اینگونه عاشقار با تو احبالپرسی نکنه، لیک آن ذوق تو پرسش کردن است.یعنی همین ذوقی که در خودت می یابی، این همون پرسیدن خداوند است، یعنی لذتی که از رنج می بری، این همون عین پرسش کردن خداونده، که گویی او اومده و داره اصلا احوال پرسی می کنه و میگه چونی، ای رنجور من!و بعد دو سه بیت خیلی\n",
      "\n",
      "میافته و مدهوش میشه، یه دو بیت شعر من به یاد دارم، حالا خوب شد به یادم آمده، سخنرانههای مرغوم آقای حسین علیه راشد، سخنران درجه اولی بود، مرد حکیمی بود،و مرد اخلاقی و تخنانش بسیار در دل تاثیر میگذاشت. من معتقدم همین امروز هم اگر تخنرانیهای اورورادیوی ایران فخش بکنه، شنوایان، شنوندگان بسیار خواهند داشت. خیلی دلنشین تخن میگفت و استاد سخن بود.یادم یه بار این دو بیتی رو من از او شنیدم و بر خاطرم، وگر جهان فتنه گیرد از چپ و راست، و آتش سعقه پیش و پس باشد، تو پریشان نکردهای کس را چه پریشانی از کس باشد؟باز از آن سعقه چو با خود آمدم، وقتی که از بیگوشی برخاستم، بر قرآنم داریم که وخرم موسیٔ سعقه، موسیٔ هم وقتی که خداوند تجلی کرد بیگوش افتاده، تور برجا بود، نه افزون و نه کمید، لیک زیر، حالا اینجا رو نگاه کنید، این مطلب بعدی عجیب است، لیک زیر پای موسی همچو یخ میگدازید،نماندر شاخ و شخمشخ یعنی کوه، شاخم یعنی شاخممیگه همین کوهی که من دیدم سر جا باقی مونده، مثل یخ زیر پای موساداش آبید شدبا زمین هموار شد که از نهی، هموار شد، یکسان شد با زمین، گشت بالایش از آن حیبت نشیب، یعنی قد و بالاش نشیب شد، یعنی سر\n",
      "\n",
      "آدمی و غیرهلا جرم، بعد میگه اول و آخر حبوت من ز زن، چون که بودم روح و چون گشتم بدن.بسیار خوب بشنوین زاری یوسف در عصار یا بران یعقوب بیدل رحم آر ناله از اخوان کنم یا از زنان که فکرندند چو آدم از جناناز کی؟ از برادران یا از زنانزان مثال برگده پژمردهام که از بهشت وصل گندم خوردهام؟دیگه حالا زنان رو و کیدشون رو رها میکنی میگه تقصیر خودم بود، من در بهشت وصال بودن، به من گفتن گندم نخور، خوردم مثل برگده پژمردهام الان مثل برگ خزانی پژمردهامچون بدیدم لطف و اکرام تو را وان سلام سلم و پیغام تو را...اشاره دیگه به محبوب است، به محبوب عزلی است، به خداوند است.من که ناامید نیستم ولو اینکه عبود کردم، دو توام عبود کردم، توسط دو زن من به این روزگار افتادهام که افتادهام، ولی چون بدیدم لطف و اکرام تو را وان سلام سلم و...پیغام تو را دفع هر چشم بد از پیش و پس، دافع هر چشم بد از پیش و پس، چشمهای پرخمار توست و بس.چشم بد زیاده رد اطراف من ولی چشمهای پرخمار تو، چشمهای بد را دفع میکنن تو، منظور تو باشم و در نظر تو باشم هیچ چشمی به من زخم نمیزند.چشم بد را چشم نیکویت شها مات و مستاصل کند نعمت دوا چشم خوب تو همهی\n"
     ]
    }
   ],
   "source": [
    "retriever = load_embeddings(documents, \"\"\"تفسیر بیت زیر چیست: /\"\n",
    "\"یاد من کن پیش تخت آن عزیز /\n",
    "تا مرا هم واخرد زین حبس نیز\"\"\")"
   ]
  },
  {
   "cell_type": "code",
   "execution_count": 19,
   "metadata": {},
   "outputs": [
    {
     "name": "stdout",
     "output_type": "stream",
     "text": [
      "این بیت از مثنوی مولانا به معنای \"یاد من کن و پیش تخت آن عزیز بیاور / تا هم من از این زندانی نیز رهایی یابم\" است. در این بیت، شاعر به عزیز خود اشاره کرده و از او خواسته است که به یادش بیاورد و در کمک او باشد تا از دست زندانی شدن خود نیز رهایی یابد. این بیت می‌تواند به معنای تلاش برای آزادی از بندگی و محدودیت‌ها، به‌ویژه در مسیر روحانیت و عشق الهی باشد.\n"
     ]
    }
   ],
   "source": [
    "response = generate_response(retriever, \"\"\"تفسیر بیت زیر چیست: /\"\n",
    "\"یاد من کن پیش تخت آن عزیز /\n",
    "تا مرا هم واخرد زین حبس نیز\"\"\")\n",
    "\n",
    "print(response)"
   ]
  }
 ],
 "metadata": {
  "kernelspec": {
   "display_name": "soroush",
   "language": "python",
   "name": "python3"
  },
  "language_info": {
   "codemirror_mode": {
    "name": "ipython",
    "version": 3
   },
   "file_extension": ".py",
   "mimetype": "text/x-python",
   "name": "python",
   "nbconvert_exporter": "python",
   "pygments_lexer": "ipython3",
   "version": "3.10.12"
  }
 },
 "nbformat": 4,
 "nbformat_minor": 2
}
